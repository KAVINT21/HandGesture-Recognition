{
 "cells": [
  {
   "cell_type": "code",
   "execution_count": 3,
   "id": "38f60e8a",
   "metadata": {},
   "outputs": [
    {
     "name": "stdout",
     "output_type": "stream",
     "text": [
      "Found 6480 images belonging to 9 classes.\n",
      "Found 1620 images belonging to 9 classes.\n",
      "Epoch 1/10\n",
      "203/203 [==============================] - 83s 407ms/step - loss: 0.0658 - accuracy: 0.9832 - val_loss: 0.0134 - val_accuracy: 0.9975\n",
      "Epoch 2/10\n",
      "203/203 [==============================] - 23s 115ms/step - loss: 0.0015 - accuracy: 0.9997 - val_loss: 0.0021 - val_accuracy: 0.9988\n",
      "Epoch 3/10\n",
      "203/203 [==============================] - 23s 115ms/step - loss: 1.7338e-05 - accuracy: 1.0000 - val_loss: 0.0017 - val_accuracy: 0.9994\n",
      "Epoch 4/10\n",
      "203/203 [==============================] - 23s 114ms/step - loss: 9.9470e-06 - accuracy: 1.0000 - val_loss: 0.0015 - val_accuracy: 0.9994\n",
      "Epoch 5/10\n",
      "203/203 [==============================] - 23s 115ms/step - loss: 6.1207e-06 - accuracy: 1.0000 - val_loss: 0.0012 - val_accuracy: 0.9994\n",
      "Epoch 6/10\n",
      "203/203 [==============================] - 23s 114ms/step - loss: 1.5056e-06 - accuracy: 1.0000 - val_loss: 2.0875e-04 - val_accuracy: 1.0000\n",
      "Epoch 7/10\n",
      "203/203 [==============================] - 23s 115ms/step - loss: 3.8128e-07 - accuracy: 1.0000 - val_loss: 2.0169e-04 - val_accuracy: 1.0000\n",
      "Epoch 8/10\n",
      "203/203 [==============================] - 23s 115ms/step - loss: 2.0166e-07 - accuracy: 1.0000 - val_loss: 1.7169e-04 - val_accuracy: 1.0000\n",
      "Epoch 9/10\n",
      "203/203 [==============================] - 24s 116ms/step - loss: 1.3106e-07 - accuracy: 1.0000 - val_loss: 2.4396e-04 - val_accuracy: 1.0000\n",
      "Epoch 10/10\n",
      "203/203 [==============================] - 24s 119ms/step - loss: 8.4716e-08 - accuracy: 1.0000 - val_loss: 1.5060e-04 - val_accuracy: 1.0000\n"
     ]
    },
    {
     "name": "stderr",
     "output_type": "stream",
     "text": [
      "C:\\My_Apps\\anaconda3\\envs\\myenv\\lib\\site-packages\\keras\\src\\engine\\training.py:3000: UserWarning: You are saving your model as an HDF5 file via `model.save()`. This file format is considered legacy. We recommend using instead the native Keras format, e.g. `model.save('my_model.keras')`.\n",
      "  saving_api.save_model(\n"
     ]
    }
   ],
   "source": [
    "import tensorflow as tf\n",
    "from tensorflow.keras.preprocessing.image import ImageDataGenerator\n",
    "from tensorflow.keras.models import Sequential\n",
    "from tensorflow.keras.layers import Conv2D, MaxPooling2D, Flatten, Dense\n",
    "\n",
    "# Define the path to your dataset\n",
    "train_data_dir = 'D:\\\\Internships\\\\Prodigy_InfoTech\\\\train\\\\train'\n",
    "\n",
    "# Define image dimensions and batch size\n",
    "img_width, img_height = 64, 64\n",
    "batch_size = 32\n",
    "\n",
    "# Create data generators for training\n",
    "train_datagen = ImageDataGenerator(rescale=1./255, validation_split=0.2)\n",
    "\n",
    "train_generator = train_datagen.flow_from_directory(\n",
    "    train_data_dir,\n",
    "    target_size=(img_width, img_height),\n",
    "    batch_size=batch_size,\n",
    "    class_mode='categorical',  # assuming you have 10 classes\n",
    "    subset='training'\n",
    ")\n",
    "\n",
    "validation_generator = train_datagen.flow_from_directory(\n",
    "    train_data_dir,\n",
    "    target_size=(img_width, img_height),\n",
    "    batch_size=batch_size,\n",
    "    class_mode='categorical',\n",
    "    subset='validation'\n",
    ")\n",
    "\n",
    "# Define the deep learning model\n",
    "model = Sequential()\n",
    "model.add(Conv2D(32, (3, 3), input_shape=(img_width, img_height, 3), activation='relu'))\n",
    "model.add(MaxPooling2D(pool_size=(2, 2)))\n",
    "model.add(Flatten())\n",
    "model.add(Dense(128, activation='relu'))\n",
    "model.add(Dense(9, activation='softmax'))  # 10 classes\n",
    "\n",
    "# Compile the model\n",
    "model.compile(optimizer='adam', loss='categorical_crossentropy', metrics=['accuracy'])\n",
    "\n",
    "# Train the model\n",
    "model.fit(train_generator, epochs=10, validation_data=validation_generator)\n",
    "\n",
    "# Save the model for future predictions\n",
    "model.save('handgesture_model.h5')\n",
    "\n",
    "# Now, you can use this model for predictions\n",
    "# Example of loading the model for prediction:\n",
    "# loaded_model = tf.keras.models.load_model('handgesture_model.h5')\n",
    "# prediction = loaded_model.predict(new_data)  # replace new_data with your input data\n"
   ]
  },
  {
   "cell_type": "code",
   "execution_count": 8,
   "id": "e730cdd1",
   "metadata": {},
   "outputs": [
    {
     "name": "stdout",
     "output_type": "stream",
     "text": [
      "Running on local URL:  http://127.0.0.1:7860\n",
      "\n",
      "To create a public link, set `share=True` in `launch()`.\n"
     ]
    },
    {
     "data": {
      "text/html": [
       "<div><iframe src=\"http://127.0.0.1:7860/\" width=\"100%\" height=\"500\" allow=\"autoplay; camera; microphone; clipboard-read; clipboard-write;\" frameborder=\"0\" allowfullscreen></iframe></div>"
      ],
      "text/plain": [
       "<IPython.core.display.HTML object>"
      ]
     },
     "metadata": {},
     "output_type": "display_data"
    },
    {
     "data": {
      "text/plain": []
     },
     "execution_count": 8,
     "metadata": {},
     "output_type": "execute_result"
    },
    {
     "name": "stderr",
     "output_type": "stream",
     "text": [
      "Traceback (most recent call last):\n",
      "  File \"C:\\My_Apps\\anaconda3\\envs\\myenv\\lib\\site-packages\\gradio\\queueing.py\", line 495, in call_prediction\n",
      "    output = await route_utils.call_process_api(\n",
      "  File \"C:\\My_Apps\\anaconda3\\envs\\myenv\\lib\\site-packages\\gradio\\route_utils.py\", line 232, in call_process_api\n",
      "    output = await app.get_blocks().process_api(\n",
      "  File \"C:\\My_Apps\\anaconda3\\envs\\myenv\\lib\\site-packages\\gradio\\blocks.py\", line 1561, in process_api\n",
      "    result = await self.call_function(\n",
      "  File \"C:\\My_Apps\\anaconda3\\envs\\myenv\\lib\\site-packages\\gradio\\blocks.py\", line 1179, in call_function\n",
      "    prediction = await anyio.to_thread.run_sync(\n",
      "  File \"C:\\My_Apps\\anaconda3\\envs\\myenv\\lib\\site-packages\\anyio\\to_thread.py\", line 33, in run_sync\n",
      "    return await get_asynclib().run_sync_in_worker_thread(\n",
      "  File \"C:\\My_Apps\\anaconda3\\envs\\myenv\\lib\\site-packages\\anyio\\_backends\\_asyncio.py\", line 877, in run_sync_in_worker_thread\n",
      "    return await future\n",
      "  File \"C:\\My_Apps\\anaconda3\\envs\\myenv\\lib\\site-packages\\anyio\\_backends\\_asyncio.py\", line 807, in run\n",
      "    result = context.run(func, *args)\n",
      "  File \"C:\\My_Apps\\anaconda3\\envs\\myenv\\lib\\site-packages\\gradio\\utils.py\", line 678, in wrapper\n",
      "    response = f(*args, **kwargs)\n",
      "  File \"C:\\Users\\91984\\AppData\\Local\\Temp\\ipykernel_1748\\124655293.py\", line 6, in predict_hand_gesture\n",
      "    img_array = image.img_to_array(resized_image)\n",
      "AttributeError: 'numpy.ndarray' object has no attribute 'img_to_array'\n"
     ]
    }
   ],
   "source": [
    "import gradio as gr\n",
    "\n",
    "def predict_hand_gesture(image):\n",
    "    # Resize the input image to match the model's input dimensions\n",
    "    resized_image = cv2.resize(image, (img_width, img_height))\n",
    "    img_array = image.img_to_array(resized_image)\n",
    "    img_array = np.expand_dims(img_array, axis=0) / 255.0  # Normalize the pixel values\n",
    "\n",
    "    # Make predictions\n",
    "    predictions = model.predict(img_array)\n",
    "\n",
    "    # Get the predicted class index\n",
    "    predicted_class = np.argmax(predictions)\n",
    "\n",
    "    return f'Predicted Class: {li[predicted_class]}'\n",
    "\n",
    "# Create a Gradio interface\n",
    "iface = gr.Interface(fn=predict_hand_gesture, \n",
    "                     inputs=\"image\",\n",
    "                     outputs=\"text\",\n",
    "                     live=True,\n",
    "                     )\n",
    "\n",
    "# Launch the interface\n",
    "iface.launch()\n"
   ]
  },
  {
   "cell_type": "code",
   "execution_count": null,
   "id": "8fe2af77",
   "metadata": {},
   "outputs": [],
   "source": []
  }
 ],
 "metadata": {
  "kernelspec": {
   "display_name": "Python 3 (ipykernel)",
   "language": "python",
   "name": "python3"
  },
  "language_info": {
   "codemirror_mode": {
    "name": "ipython",
    "version": 3
   },
   "file_extension": ".py",
   "mimetype": "text/x-python",
   "name": "python",
   "nbconvert_exporter": "python",
   "pygments_lexer": "ipython3",
   "version": "3.8.18"
  }
 },
 "nbformat": 4,
 "nbformat_minor": 5
}
